{
 "cells": [
  {
   "cell_type": "code",
   "execution_count": 1,
   "metadata": {},
   "outputs": [
    {
     "data": {
      "text/plain": [
       "[[0, 1, 2, 3, 4, 5],\n",
       " [0, 1, 2, 3, 4],\n",
       " [0, 1, 2, 3, 5],\n",
       " [0, 1, 2, 3],\n",
       " [0, 1, 2, 4, 5],\n",
       " [0, 1, 2, 4],\n",
       " [0, 1, 2, 5],\n",
       " [0, 1, 2],\n",
       " [0, 1, 3, 4, 5],\n",
       " [0, 1, 3, 4],\n",
       " [0, 1, 3, 5],\n",
       " [0, 1, 3],\n",
       " [0, 1, 4, 5],\n",
       " [0, 1, 4],\n",
       " [0, 1, 5],\n",
       " [0, 1],\n",
       " [0, 2, 3, 4, 5],\n",
       " [0, 2, 3, 4],\n",
       " [0, 2, 3, 5],\n",
       " [0, 2, 3],\n",
       " [0, 2, 4, 5],\n",
       " [0, 2, 4],\n",
       " [0, 2, 5],\n",
       " [0, 2],\n",
       " [0, 3, 4, 5],\n",
       " [0, 3, 4],\n",
       " [0, 3, 5],\n",
       " [0, 3],\n",
       " [0, 4, 5],\n",
       " [0, 4],\n",
       " [0, 5],\n",
       " [0],\n",
       " [1, 2, 3, 4, 5],\n",
       " [1, 2, 3, 4],\n",
       " [1, 2, 3, 5],\n",
       " [1, 2, 3],\n",
       " [1, 2, 4, 5],\n",
       " [1, 2, 4],\n",
       " [1, 2, 5],\n",
       " [1, 2],\n",
       " [1, 3, 4, 5],\n",
       " [1, 3, 4],\n",
       " [1, 3, 5],\n",
       " [1, 3],\n",
       " [1, 4, 5],\n",
       " [1, 4],\n",
       " [1, 5],\n",
       " [1],\n",
       " [2, 3, 4, 5],\n",
       " [2, 3, 4],\n",
       " [2, 3, 5],\n",
       " [2, 3],\n",
       " [2, 4, 5],\n",
       " [2, 4],\n",
       " [2, 5],\n",
       " [2],\n",
       " [3, 4, 5],\n",
       " [3, 4],\n",
       " [3, 5],\n",
       " [3],\n",
       " [4, 5],\n",
       " [4],\n",
       " [5],\n",
       " []]"
      ]
     },
     "execution_count": 1,
     "metadata": {},
     "output_type": "execute_result"
    }
   ],
   "source": [
    "def alt_kume_bulma(dizi):\n",
    "    if not dizi:\n",
    "        return [[]]\n",
    "    dizi1 = [[dizi[0]] + n for n in alt_kume_bulma(dizi[1:])]\n",
    "    dizi2 = alt_kume_bulma(dizi[1:])\n",
    "    return dizi1 + dizi2\n",
    "\n",
    "alt_kume_bulma([0,1,2,3,4,5])"
   ]
  },
  {
   "cell_type": "code",
   "execution_count": null,
   "metadata": {},
   "outputs": [],
   "source": []
  }
 ],
 "metadata": {
  "kernelspec": {
   "display_name": "Python 3",
   "language": "python",
   "name": "python3"
  },
  "language_info": {
   "codemirror_mode": {
    "name": "ipython",
    "version": 3
   },
   "file_extension": ".py",
   "mimetype": "text/x-python",
   "name": "python",
   "nbconvert_exporter": "python",
   "pygments_lexer": "ipython3",
   "version": "3.6.4"
  }
 },
 "nbformat": 4,
 "nbformat_minor": 2
}
