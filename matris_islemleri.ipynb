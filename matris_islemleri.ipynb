{
 "cells": [
  {
   "cell_type": "code",
   "execution_count": 7,
   "metadata": {},
   "outputs": [],
   "source": [
    "from random import randint\n",
    "def create_A_vector(size):\n",
    "    my_vector=[]\n",
    "    for i in range(size):\n",
    "        my_vector.append(randint(0,9))\n",
    "    return my_vector\n",
    "\n",
    "def vector_inner_product(v1,v2):\n",
    "    if(len(v1) != len(v2)):\n",
    "        print(\"vektörler eşit değil\")\n",
    "        return \n",
    "    result = 0\n",
    "    for i in range(len(v1)):\n",
    "        result = result+v1[i]*v2[i]\n",
    "    return result\n",
    "    \n",
    "def create_A_matrix(m,n):\n",
    "    my_matrix=[]\n",
    "    for i in range(m):\n",
    "        my_matrix.append(create_A_vector(n))\n",
    "    return my_matrix\n",
    "\n",
    "def matrix_multiplication(a,b):\n",
    "    m=len(a)\n",
    "    n=len(a[0])\n",
    "    p=len(b[0])\n",
    "    my_matrix_sonuc = create_A_matrix(m,p)\n",
    "    for i in range(m):\n",
    "        for j in range(p):\n",
    "            vector_1=a[i]\n",
    "            vector_2=[i[j] for i in b]\n",
    "            my_matrix_sonuc[i][j]=vector_inner_product(vector_1,vector_2)\n",
    "    return my_matrix_sonuc,m*n*p"
   ]
  },
  {
   "cell_type": "code",
   "execution_count": 9,
   "metadata": {},
   "outputs": [
    {
     "data": {
      "text/plain": [
       "([[61, 155, 170, 172, 147, 136, 92, 106, 141, 119],\n",
       "  [33, 119, 86, 76, 49, 92, 42, 93, 106, 58],\n",
       "  [42, 102, 53, 50, 66, 67, 44, 92, 84, 38]],\n",
       " 150)"
      ]
     },
     "execution_count": 9,
     "metadata": {},
     "output_type": "execute_result"
    }
   ],
   "source": [
    "my_vector_1=create_A_vector(10)\n",
    "my_vector_2=create_A_vector(10)\n",
    "\n",
    "vector_product=vector_inner_product(my_vector_1,my_vector_2)\n",
    "\n",
    "my_matrix_1=create_A_matrix(3,5)\n",
    "my_matrix_2=create_A_matrix(5,10)\n",
    "c=matrix_multiplication(my_matrix_1,my_matrix_2)\n",
    "c"
   ]
  },
  {
   "cell_type": "code",
   "execution_count": 10,
   "metadata": {},
   "outputs": [],
   "source": [
    "a_1=create_A_matrix(1,10)\n",
    "a_2=create_A_matrix(10,1000)\n",
    "a_3=create_A_matrix(1000,1)\n",
    "a_4=create_A_matrix(1,5)\n",
    "a_5=create_A_matrix(5,3)\n",
    "\n",
    "islem_sayisi=0\n",
    "r_1=matrix_multiplication(a_1,a_2)\n",
    "islem_sayisi=islem_sayisi+r_1[1]\n",
    "\n",
    "r_1=matrix_multiplication(r_1[0],a_3)\n",
    "islem_sayisi=islem_sayisi+r_1[1]\n",
    "\n",
    "r_1=matrix_multiplication(r_1[0],a_4)\n",
    "islem_sayisi=islem_sayisi+r_1[1]\n",
    "\n",
    "r_1=matrix_multiplication(r_1[0],a_5)\n",
    "islem_sayisi=islem_sayisi+r_1[1]"
   ]
  },
  {
   "cell_type": "code",
   "execution_count": 11,
   "metadata": {},
   "outputs": [
    {
     "name": "stdout",
     "output_type": "stream",
     "text": [
      "([[91951944, 73342622, 95235942]], 15) toplam islem sayisi: 11020\n"
     ]
    }
   ],
   "source": [
    "print(r_1,\"toplam islem sayisi:\",islem_sayisi)"
   ]
  },
  {
   "cell_type": "code",
   "execution_count": null,
   "metadata": {},
   "outputs": [],
   "source": []
  }
 ],
 "metadata": {
  "kernelspec": {
   "display_name": "Python 3",
   "language": "python",
   "name": "python3"
  },
  "language_info": {
   "codemirror_mode": {
    "name": "ipython",
    "version": 3
   },
   "file_extension": ".py",
   "mimetype": "text/x-python",
   "name": "python",
   "nbconvert_exporter": "python",
   "pygments_lexer": "ipython3",
   "version": "3.6.4"
  }
 },
 "nbformat": 4,
 "nbformat_minor": 2
}
