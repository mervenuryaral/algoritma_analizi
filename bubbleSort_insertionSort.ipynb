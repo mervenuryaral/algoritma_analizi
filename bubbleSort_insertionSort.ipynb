{
 "cells": [
  {
   "cell_type": "code",
   "execution_count": 1,
   "metadata": {},
   "outputs": [],
   "source": [
    "from random import randrange\n",
    "\n",
    "def createRandomList(n):\n",
    "    myarray = []\n",
    "    for i in range(n):\n",
    "        foo = [0,1,2,3,4,5,6,7,8,9,10,11,12,13,14,15,16,17,18,19,20,21,22,23,24,25,26,27,28,29,30,31,32,33,34,35,36,37,38,39,40,41,42,43,44,45,46,47,48,49,50]\n",
    "        random_index = randrange(0,len(foo))\n",
    "        myarray.append(foo[random_index])\n",
    "    return myarray"
   ]
  },
  {
   "cell_type": "code",
   "execution_count": 2,
   "metadata": {},
   "outputs": [],
   "source": [
    "def bubbleSort(alist):\n",
    "    step = 0\n",
    "    for passnum in range(len(alist)-1,0,-1):\n",
    "        for i in range(passnum):\n",
    "            if alist[i]>alist[i+1]:\n",
    "                step += 1\n",
    "                temp = alist[i]\n",
    "                alist[i] = alist[i+1]\n",
    "                alist[i+1] = temp\n",
    "    return step"
   ]
  },
  {
   "cell_type": "code",
   "execution_count": 3,
   "metadata": {},
   "outputs": [],
   "source": [
    "def insertionSort(alist):\n",
    "    step = 0\n",
    "    for index in range(1,len(alist)):\n",
    "        currentvalue = alist[index]\n",
    "        position = index\n",
    "        while position>0 and alist[position-1]>currentvalue:\n",
    "            step += 1\n",
    "            alist[position]=alist[position-1]\n",
    "            position = position-1\n",
    "        alist[position]=currentvalue\n",
    "    return step"
   ]
  },
  {
   "cell_type": "code",
   "execution_count": 4,
   "metadata": {},
   "outputs": [
    {
     "name": "stdout",
     "output_type": "stream",
     "text": [
      "Bubble Sort\n",
      "-----------\n",
      "Eski Liste:  [11, 8, 47, 22, 15, 25, 14, 50, 32, 0, 4, 31, 11, 14, 48, 37, 44, 18, 10, 50]\n",
      "Yeni Liste:  [0, 4, 8, 10, 11, 11, 14, 14, 15, 18, 22, 25, 31, 32, 37, 44, 47, 48, 50, 50]\n",
      "Adım Sayısı:  78 \n",
      "\n"
     ]
    }
   ],
   "source": [
    "newArray = createRandomList(20)\n",
    "print(\"Bubble Sort\\n-----------\")\n",
    "print(\"Eski Liste: \" , newArray)\n",
    "step = bubbleSort(newArray)\n",
    "print(\"Yeni Liste: \" , newArray)\n",
    "print(\"Adım Sayısı: \" , step, \"\\n\")"
   ]
  },
  {
   "cell_type": "code",
   "execution_count": 5,
   "metadata": {},
   "outputs": [
    {
     "name": "stdout",
     "output_type": "stream",
     "text": [
      "Insertion Sort\n",
      "--------------\n",
      "Eski Liste:  [35, 1, 40, 9, 0, 11, 29, 37, 30, 13, 27, 29, 49, 47, 48, 23, 49, 16, 32, 12]\n",
      "Yeni Liste:  [0, 1, 9, 11, 12, 13, 16, 23, 27, 29, 29, 30, 32, 35, 37, 40, 47, 48, 49, 49]\n",
      "Adım Sayısı:  75\n"
     ]
    }
   ],
   "source": [
    "newArray = createRandomList(20)\n",
    "print(\"Insertion Sort\\n--------------\")\n",
    "print(\"Eski Liste: \" , newArray)\n",
    "step = insertionSort(newArray)\n",
    "print(\"Yeni Liste: \" , newArray)\n",
    "print(\"Adım Sayısı: \" , step)"
   ]
  },
  {
   "cell_type": "code",
   "execution_count": null,
   "metadata": {},
   "outputs": [],
   "source": []
  }
 ],
 "metadata": {
  "kernelspec": {
   "display_name": "Python 3",
   "language": "python",
   "name": "python3"
  },
  "language_info": {
   "codemirror_mode": {
    "name": "ipython",
    "version": 3
   },
   "file_extension": ".py",
   "mimetype": "text/x-python",
   "name": "python",
   "nbconvert_exporter": "python",
   "pygments_lexer": "ipython3",
   "version": "3.6.4"
  }
 },
 "nbformat": 4,
 "nbformat_minor": 2
}
