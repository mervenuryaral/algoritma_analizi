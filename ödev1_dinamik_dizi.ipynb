{
 "cells": [
  {
   "cell_type": "code",
   "execution_count": 7,
   "metadata": {
    "collapsed": false
   },
   "outputs": [
    {
     "name": "stdout",
     "output_type": "stream",
     "text": [
      "başlangıç boyutu: 64\n",
      "dizi yer değiştirdi , amortized cost size: 96\n",
      "dizi yer değiştirdi , amortized cost size: 128\n",
      "dizi yer değiştirdi , amortized cost size: 192\n",
      "dizi yer değiştirdi , amortized cost size: 264\n",
      "dizi yer değiştirdi , amortized cost size: 344\n",
      "dizi yer değiştirdi , amortized cost size: 432\n",
      "dizi yer değiştirdi , amortized cost size: 528\n",
      "dizi yer değiştirdi , amortized cost size: 640\n",
      "dizi yer değiştirdi , amortized cost size: 768\n",
      "dizi yer değiştirdi , amortized cost size: 912\n",
      "dizi yer değiştirdi , amortized cost size: 1072\n",
      "dizi yer değiştirdi , amortized cost size: 1248\n",
      "dizi yer değiştirdi , amortized cost size: 1448\n",
      "dizi yer değiştirdi , amortized cost size: 1672\n",
      "dizi yer değiştirdi , amortized cost size: 1928\n",
      "dizi yer değiştirdi , amortized cost size: 2216\n",
      "dizi yer değiştirdi , amortized cost size: 2536\n",
      "dizi yer değiştirdi , amortized cost size: 2896\n",
      "dizi yer değiştirdi , amortized cost size: 3304\n",
      "dizi yer değiştirdi , amortized cost size: 3760\n",
      "dizi yer değiştirdi , amortized cost size: 4272\n",
      "dizi yer değiştirdi , amortized cost size: 4848\n",
      "dizi yer değiştirdi , amortized cost size: 5496\n",
      "dizi yer değiştirdi , amortized cost size: 6232\n",
      "dizi yer değiştirdi , amortized cost size: 7056\n",
      "dizi yer değiştirdi , amortized cost size: 7984\n",
      "dizi yer değiştirdi , amortized cost size: 9024\n",
      "dizi yer değiştirdi , amortized cost size: 10200\n",
      "dizi yer değiştirdi , amortized cost size: 11520\n",
      "dizi yer değiştirdi , amortized cost size: 13008\n",
      "dizi yer değiştirdi , amortized cost size: 14680\n",
      "dizi yer değiştirdi , amortized cost size: 16560\n",
      "dizi yer değiştirdi , amortized cost size: 18672\n",
      "dizi yer değiştirdi , amortized cost size: 21048\n",
      "dizi yer değiştirdi , amortized cost size: 23728\n",
      "dizi yer değiştirdi , amortized cost size: 26736\n",
      "dizi yer değiştirdi , amortized cost size: 30120\n",
      "dizi yer değiştirdi , amortized cost size: 33928\n",
      "dizi yer değiştirdi , amortized cost size: 38216\n",
      "dizi yer değiştirdi , amortized cost size: 43040\n",
      "dizi yer değiştirdi , amortized cost size: 48464\n",
      "dizi yer değiştirdi , amortized cost size: 54568\n",
      "dizi yer değiştirdi , amortized cost size: 61432\n",
      "dizi yer değiştirdi , amortized cost size: 69160\n",
      "dizi yer değiştirdi , amortized cost size: 77848\n",
      "dizi yer değiştirdi , amortized cost size: 87624\n",
      "dizi yer değiştirdi , amortized cost size: 98624\n",
      "dizi yer değiştirdi , amortized cost size: 111000\n",
      "dizi yer değiştirdi , amortized cost size: 124920\n",
      "dizi yer değiştirdi , amortized cost size: 140584\n",
      "dizi yer değiştirdi , amortized cost size: 158200\n",
      "dizi yer değiştirdi , amortized cost size: 178024\n"
     ]
    }
   ],
   "source": [
    "import sys\n",
    "my_L_1=[]\n",
    "size_1=sys.getsizeof(my_L_1)\n",
    "print(\"başlangıç boyutu:\", size_1, end=\"\")\n",
    "print()\n",
    "for i in range (20000):\n",
    "    my_L_1.append(str(i)+\"test\")\n",
    "    if(size_1!=sys.getsizeof(my_L_1)):\n",
    "        print (\"dizi yer değiştirdi , amortized cost \" , end= \"\")\n",
    "        size_1=sys.getsizeof(my_L_1)\n",
    "        print(\"size:\", size_1)"
   ]
  },
  {
   "cell_type": "code",
   "execution_count": null,
   "metadata": {
    "collapsed": true
   },
   "outputs": [],
   "source": []
  }
 ],
 "metadata": {
  "kernelspec": {
   "display_name": "Python 3",
   "language": "python",
   "name": "python3"
  },
  "language_info": {
   "codemirror_mode": {
    "name": "ipython",
    "version": 3
   },
   "file_extension": ".py",
   "mimetype": "text/x-python",
   "name": "python",
   "nbconvert_exporter": "python",
   "pygments_lexer": "ipython3",
   "version": "3.6.0"
  }
 },
 "nbformat": 4,
 "nbformat_minor": 2
}
